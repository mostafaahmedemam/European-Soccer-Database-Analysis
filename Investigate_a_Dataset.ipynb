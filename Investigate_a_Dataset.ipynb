{
 "cells": [
  {
   "cell_type": "markdown",
   "metadata": {},
   "source": [
    "> **Tip**: Welcome to the Investigate a Dataset project! You will find tips in quoted sections like this to help organize your approach to your investigation. Before submitting your project, it will be a good idea to go back through your report and remove these sections to make the presentation of your work as tidy as possible. First things first, you might want to double-click this Markdown cell and change the title so that it reflects your dataset and investigation.\n",
    "\n",
    "# Project: Investigate a Dataset (Soccer Dataset)\n",
    "\n",
    "## Table of Contents\n",
    "<ul>\n",
    "<li><a href=\"#intro\">Introduction</a></li>\n",
    "<li><a href=\"#wrangling\">Data Wrangling</a></li>\n",
    "<li><a href=\"#eda\">Exploratory Data Analysis</a></li>\n",
    "<li><a href=\"#conclusions\">Conclusions</a></li>\n",
    "</ul>"
   ]
  },
  {
   "cell_type": "code",
   "execution_count": null,
   "metadata": {},
   "outputs": [],
   "source": []
  },
  {
   "cell_type": "markdown",
   "metadata": {},
   "source": [
    "<a id='intro'></a>\n",
    "## Introduction\n",
    "\n",
    "> **Tip**: In this section of the report, provide a brief introduction to the dataset you've selected for analysis. At the end of this section, describe the questions that you plan on exploring over the course of the report. Try to build your report around the analysis of at least one dependent variable and three independent variables. If you're not sure what questions to ask, then make sure you familiarize yourself with the dataset, its variables and the dataset context for ideas of what to explore.\n",
    "\n",
    "> If you haven't yet selected and downloaded your data, make sure you do that first before coming back here. In order to work with the data in this workspace, you also need to upload it to the workspace. To do so, click on the jupyter icon in the upper left to be taken back to the workspace directory. There should be an 'Upload' button in the upper right that will let you add your data file(s) to the workspace. You can then click on the .ipynb file name to come back here."
   ]
  },
  {
   "cell_type": "markdown",
   "metadata": {},
   "source": []
  },
  {
   "cell_type": "code",
   "execution_count": 85,
   "metadata": {},
   "outputs": [],
   "source": [
    "# Use this cell to set up import statements for all of the packages that you\n",
    "#   plan to use.\n",
    "\n",
    "# Remember to include a 'magic word' so that your visualizations are plotted\n",
    "#   inline with the notebook. See this page for more:\n",
    "#   http://ipython.readthedocs.io/en/stable/interactive/magics.html\n",
    "import sqlite3\n",
    "import matplotlib.pyplot as plt\n",
    "import pandas as pd\n",
    "import numpy as np\n",
    "import seaborn as sns\n",
    "%matplotlib inline\n",
    "\n",
    "\n"
   ]
  },
  {
   "cell_type": "markdown",
   "metadata": {},
   "source": [
    "<a id='wrangling'></a>\n",
    "## Data Wrangling\n",
    "\n",
    "> **Tip**: In this section of the report, you will load in the data, check for cleanliness, and then trim and clean your dataset for analysis. Make sure that you document your steps carefully and justify your cleaning decisions.\n",
    "\n",
    "### General Properties"
   ]
  },
  {
   "cell_type": "code",
   "execution_count": 2,
   "metadata": {},
   "outputs": [],
   "source": [
    "# Load your data and print out a few lines. Perform operations to inspect data\n",
    "#   types and look for instances of missing or possibly errant data.\n",
    "with sqlite3.connect('database.sqlite') as con:\n",
    "    sequence = pd.read_sql_query(\"SELECT * from sqlite_sequence\",con)\n",
    "    countries_df = pd.read_sql_query(\"SELECT * from Country\", con)\n",
    "    matches_df = pd.read_sql_query(\"SELECT * from Match\", con)\n",
    "    leagues_df = pd.read_sql_query(\"SELECT * from League\", con)\n",
    "    teams_df = pd.read_sql_query(\"SELECT * from Team\", con)\n",
    "    players_df = pd.read_sql_query(\"SELECT * from Player\",con)\n",
    "    player_attributes = pd.read_sql_query(\"SELECT * from Player_Attributes\",con)\n",
    "    team_attributes = pd.read_sql_query(\"SELECT * from Team_Attributes\",con)\n",
    "    "
   ]
  },
  {
   "cell_type": "markdown",
   "metadata": {},
   "source": [
    "#### Dealing with Countries Data frame "
   ]
  },
  {
   "cell_type": "code",
   "execution_count": 3,
   "metadata": {},
   "outputs": [
    {
     "name": "stdout",
     "output_type": "stream",
     "text": [
      "       id         name\n",
      "0       1      Belgium\n",
      "1    1729      England\n",
      "2    4769       France\n",
      "3    7809      Germany\n",
      "4   10257        Italy\n",
      "5   13274  Netherlands\n",
      "6   15722       Poland\n",
      "7   17642     Portugal\n",
      "8   19694     Scotland\n",
      "9   21518        Spain\n",
      "10  24558  Switzerland\n",
      "<class 'pandas.core.frame.DataFrame'>\n",
      "RangeIndex: 11 entries, 0 to 10\n",
      "Data columns (total 2 columns):\n",
      "id      11 non-null int64\n",
      "name    11 non-null object\n",
      "dtypes: int64(1), object(1)\n",
      "memory usage: 256.0+ bytes\n",
      "None\n"
     ]
    }
   ],
   "source": [
    "#check each file (has null values), \n",
    "#start with country \n",
    "print(countries_df)\n",
    "print(countries_df.info())"
   ]
  },
  {
   "cell_type": "markdown",
   "metadata": {},
   "source": [
    "##### as we see , No null value in all records so countries data frame , and no duplication , that mean , no need for cleaning here"
   ]
  },
  {
   "cell_type": "code",
   "execution_count": null,
   "metadata": {},
   "outputs": [],
   "source": []
  },
  {
   "cell_type": "markdown",
   "metadata": {},
   "source": [
    "#### Dealing with teams Data frame "
   ]
  },
  {
   "cell_type": "code",
   "execution_count": 4,
   "metadata": {},
   "outputs": [
    {
     "name": "stdout",
     "output_type": "stream",
     "text": [
      "<class 'pandas.core.frame.DataFrame'>\n",
      "RangeIndex: 299 entries, 0 to 298\n",
      "Data columns (total 5 columns):\n",
      "id                  299 non-null int64\n",
      "team_api_id         299 non-null int64\n",
      "team_fifa_api_id    288 non-null float64\n",
      "team_long_name      299 non-null object\n",
      "team_short_name     299 non-null object\n",
      "dtypes: float64(1), int64(2), object(2)\n",
      "memory usage: 11.8+ KB\n"
     ]
    }
   ],
   "source": [
    "#check teams data frame \n",
    "teams_df.info()\n"
   ]
  },
  {
   "cell_type": "markdown",
   "metadata": {},
   "source": [
    "##### as we see , No null value in all records so team data frame , but team_fifa_api_id has 285 unique value from 299 , that mean we need to solve duplication in ids  attributes"
   ]
  },
  {
   "cell_type": "markdown",
   "metadata": {},
   "source": [
    "### Research Question 2  (Replace this header name!)"
   ]
  },
  {
   "cell_type": "markdown",
   "metadata": {},
   "source": [
    "#### Dealing with matches Data frame "
   ]
  },
  {
   "cell_type": "code",
   "execution_count": 5,
   "metadata": {},
   "outputs": [
    {
     "name": "stdout",
     "output_type": "stream",
     "text": [
      "<class 'pandas.core.frame.DataFrame'>\n",
      "RangeIndex: 25979 entries, 0 to 25978\n",
      "Columns: 115 entries, id to BSA\n",
      "dtypes: float64(96), int64(9), object(10)\n",
      "memory usage: 22.8+ MB\n"
     ]
    },
    {
     "data": {
      "text/plain": [
       "id                  25979\n",
       "country_id             11\n",
       "league_id              11\n",
       "season                  8\n",
       "stage                  38\n",
       "date                 1694\n",
       "match_api_id        25979\n",
       "home_team_api_id      299\n",
       "away_team_api_id      299\n",
       "home_team_goal         11\n",
       "away_team_goal         10\n",
       "home_player_X1          3\n",
       "home_player_X2          9\n",
       "home_player_X3          8\n",
       "home_player_X4          7\n",
       "home_player_X5          9\n",
       "home_player_X6          9\n",
       "home_player_X7          9\n",
       "home_player_X8          9\n",
       "home_player_X9          9\n",
       "home_player_X10         9\n",
       "home_player_X11         6\n",
       "away_player_X1          3\n",
       "away_player_X2          8\n",
       "away_player_X3          8\n",
       "away_player_X4          8\n",
       "away_player_X5          9\n",
       "away_player_X6          9\n",
       "away_player_X7          9\n",
       "away_player_X8          9\n",
       "                    ...  \n",
       "B365H                 121\n",
       "B365D                  72\n",
       "B365A                 115\n",
       "BWH                   237\n",
       "BWD                   133\n",
       "BWA                   261\n",
       "IWH                   147\n",
       "IWD                    73\n",
       "IWA                   159\n",
       "LBH                   129\n",
       "LBD                    72\n",
       "LBA                   128\n",
       "PSH                   948\n",
       "PSD                   665\n",
       "PSA                  1475\n",
       "WHH                   125\n",
       "WHD                    78\n",
       "WHA                   136\n",
       "SJH                   137\n",
       "SJD                    79\n",
       "SJA                   132\n",
       "VCH                   160\n",
       "VCD                    82\n",
       "VCA                   151\n",
       "GBH                   159\n",
       "GBD                    84\n",
       "GBA                   172\n",
       "BSH                   101\n",
       "BSD                    59\n",
       "BSA                    96\n",
       "Length: 115, dtype: int64"
      ]
     },
     "execution_count": 5,
     "metadata": {},
     "output_type": "execute_result"
    }
   ],
   "source": [
    "#check matches data frame\n",
    "matches_df.info()\n",
    "matches_df.nunique()"
   ]
  },
  {
   "cell_type": "code",
   "execution_count": 6,
   "metadata": {},
   "outputs": [],
   "source": [
    "most_missing_cols = set(matches_df.columns[matches_df.isnull().mean() > 0.50])"
   ]
  },
  {
   "cell_type": "code",
   "execution_count": 7,
   "metadata": {},
   "outputs": [
    {
     "data": {
      "text/plain": [
       "{'PSA', 'PSD', 'PSH'}"
      ]
     },
     "execution_count": 7,
     "metadata": {},
     "output_type": "execute_result"
    }
   ],
   "source": [
    "most_missing_cols "
   ]
  },
  {
   "cell_type": "markdown",
   "metadata": {},
   "source": [
    "##### as we see 'PSA', 'PSD', 'PSH' attributes have more than 50% missing vlaues so we need to drop it, in cleaning , all attributes dont have duplication so it s ok with duplication, also there are alot of attributtes we won't be helpful with our anlaysis so we can drop it , beacause this data frame have 115 attribute(which it is huage number can't be useful)\n"
   ]
  },
  {
   "cell_type": "markdown",
   "metadata": {},
   "source": [
    "#### Dealing with Countries Data frame "
   ]
  },
  {
   "cell_type": "code",
   "execution_count": 8,
   "metadata": {},
   "outputs": [
    {
     "name": "stdout",
     "output_type": "stream",
     "text": [
      "<class 'pandas.core.frame.DataFrame'>\n",
      "RangeIndex: 11 entries, 0 to 10\n",
      "Data columns (total 3 columns):\n",
      "id            11 non-null int64\n",
      "country_id    11 non-null int64\n",
      "name          11 non-null object\n",
      "dtypes: int64(2), object(1)\n",
      "memory usage: 344.0+ bytes\n"
     ]
    },
    {
     "data": {
      "text/plain": [
       "id            11\n",
       "country_id    11\n",
       "name          11\n",
       "dtype: int64"
      ]
     },
     "execution_count": 8,
     "metadata": {},
     "output_type": "execute_result"
    }
   ],
   "source": [
    "#check Leagues data frame\n",
    "\n",
    "leagues_df.info()\n",
    "leagues_df.nunique()"
   ]
  },
  {
   "cell_type": "code",
   "execution_count": 9,
   "metadata": {},
   "outputs": [
    {
     "data": {
      "text/html": [
       "<div>\n",
       "<style scoped>\n",
       "    .dataframe tbody tr th:only-of-type {\n",
       "        vertical-align: middle;\n",
       "    }\n",
       "\n",
       "    .dataframe tbody tr th {\n",
       "        vertical-align: top;\n",
       "    }\n",
       "\n",
       "    .dataframe thead th {\n",
       "        text-align: right;\n",
       "    }\n",
       "</style>\n",
       "<table border=\"1\" class=\"dataframe\">\n",
       "  <thead>\n",
       "    <tr style=\"text-align: right;\">\n",
       "      <th></th>\n",
       "      <th>id</th>\n",
       "      <th>country_id</th>\n",
       "      <th>name</th>\n",
       "    </tr>\n",
       "  </thead>\n",
       "  <tbody>\n",
       "    <tr>\n",
       "      <th>0</th>\n",
       "      <td>1</td>\n",
       "      <td>1</td>\n",
       "      <td>Belgium Jupiler League</td>\n",
       "    </tr>\n",
       "    <tr>\n",
       "      <th>1</th>\n",
       "      <td>1729</td>\n",
       "      <td>1729</td>\n",
       "      <td>England Premier League</td>\n",
       "    </tr>\n",
       "    <tr>\n",
       "      <th>2</th>\n",
       "      <td>4769</td>\n",
       "      <td>4769</td>\n",
       "      <td>France Ligue 1</td>\n",
       "    </tr>\n",
       "    <tr>\n",
       "      <th>3</th>\n",
       "      <td>7809</td>\n",
       "      <td>7809</td>\n",
       "      <td>Germany 1. Bundesliga</td>\n",
       "    </tr>\n",
       "    <tr>\n",
       "      <th>4</th>\n",
       "      <td>10257</td>\n",
       "      <td>10257</td>\n",
       "      <td>Italy Serie A</td>\n",
       "    </tr>\n",
       "    <tr>\n",
       "      <th>5</th>\n",
       "      <td>13274</td>\n",
       "      <td>13274</td>\n",
       "      <td>Netherlands Eredivisie</td>\n",
       "    </tr>\n",
       "    <tr>\n",
       "      <th>6</th>\n",
       "      <td>15722</td>\n",
       "      <td>15722</td>\n",
       "      <td>Poland Ekstraklasa</td>\n",
       "    </tr>\n",
       "    <tr>\n",
       "      <th>7</th>\n",
       "      <td>17642</td>\n",
       "      <td>17642</td>\n",
       "      <td>Portugal Liga ZON Sagres</td>\n",
       "    </tr>\n",
       "    <tr>\n",
       "      <th>8</th>\n",
       "      <td>19694</td>\n",
       "      <td>19694</td>\n",
       "      <td>Scotland Premier League</td>\n",
       "    </tr>\n",
       "    <tr>\n",
       "      <th>9</th>\n",
       "      <td>21518</td>\n",
       "      <td>21518</td>\n",
       "      <td>Spain LIGA BBVA</td>\n",
       "    </tr>\n",
       "  </tbody>\n",
       "</table>\n",
       "</div>"
      ],
      "text/plain": [
       "      id  country_id                      name\n",
       "0      1           1    Belgium Jupiler League\n",
       "1   1729        1729    England Premier League\n",
       "2   4769        4769            France Ligue 1\n",
       "3   7809        7809     Germany 1. Bundesliga\n",
       "4  10257       10257             Italy Serie A\n",
       "5  13274       13274    Netherlands Eredivisie\n",
       "6  15722       15722        Poland Ekstraklasa\n",
       "7  17642       17642  Portugal Liga ZON Sagres\n",
       "8  19694       19694   Scotland Premier League\n",
       "9  21518       21518           Spain LIGA BBVA"
      ]
     },
     "execution_count": 9,
     "metadata": {},
     "output_type": "execute_result"
    }
   ],
   "source": [
    "leagues_df.head(10)"
   ]
  },
  {
   "cell_type": "markdown",
   "metadata": {},
   "source": [
    "##### as we see , No null value in all records so Leagues data frame , and no duplication , that mean , no need for cleaning here"
   ]
  },
  {
   "cell_type": "markdown",
   "metadata": {},
   "source": [
    "#### Dealing with players Data frame "
   ]
  },
  {
   "cell_type": "code",
   "execution_count": 10,
   "metadata": {},
   "outputs": [
    {
     "name": "stdout",
     "output_type": "stream",
     "text": [
      "<class 'pandas.core.frame.DataFrame'>\n",
      "RangeIndex: 11060 entries, 0 to 11059\n",
      "Data columns (total 7 columns):\n",
      "id                    11060 non-null int64\n",
      "player_api_id         11060 non-null int64\n",
      "player_name           11060 non-null object\n",
      "player_fifa_api_id    11060 non-null int64\n",
      "birthday              11060 non-null object\n",
      "height                11060 non-null float64\n",
      "weight                11060 non-null int64\n",
      "dtypes: float64(1), int64(4), object(2)\n",
      "memory usage: 604.9+ KB\n"
     ]
    }
   ],
   "source": [
    "#check players data frame\n",
    "players_df.info()\n",
    "\n"
   ]
  },
  {
   "cell_type": "code",
   "execution_count": 11,
   "metadata": {},
   "outputs": [
    {
     "data": {
      "text/plain": [
       "id                    11060\n",
       "player_api_id         11060\n",
       "player_name           10848\n",
       "player_fifa_api_id    11060\n",
       "birthday               5762\n",
       "height                   20\n",
       "weight                   50\n",
       "dtype: int64"
      ]
     },
     "execution_count": 11,
     "metadata": {},
     "output_type": "execute_result"
    }
   ],
   "source": [
    "players_df.nunique()"
   ]
  },
  {
   "cell_type": "markdown",
   "metadata": {},
   "source": [
    "##### as we see , No null value in all records so players data frame , and no duplication in id attribute , that mean , no need for cleaning here\n"
   ]
  },
  {
   "cell_type": "markdown",
   "metadata": {},
   "source": [
    "#### Dealing with player_attributes Data frame "
   ]
  },
  {
   "cell_type": "code",
   "execution_count": 12,
   "metadata": {},
   "outputs": [
    {
     "name": "stdout",
     "output_type": "stream",
     "text": [
      "<class 'pandas.core.frame.DataFrame'>\n",
      "RangeIndex: 183978 entries, 0 to 183977\n",
      "Data columns (total 42 columns):\n",
      "id                     183978 non-null int64\n",
      "player_fifa_api_id     183978 non-null int64\n",
      "player_api_id          183978 non-null int64\n",
      "date                   183978 non-null object\n",
      "overall_rating         183142 non-null float64\n",
      "potential              183142 non-null float64\n",
      "preferred_foot         183142 non-null object\n",
      "attacking_work_rate    180748 non-null object\n",
      "defensive_work_rate    183142 non-null object\n",
      "crossing               183142 non-null float64\n",
      "finishing              183142 non-null float64\n",
      "heading_accuracy       183142 non-null float64\n",
      "short_passing          183142 non-null float64\n",
      "volleys                181265 non-null float64\n",
      "dribbling              183142 non-null float64\n",
      "curve                  181265 non-null float64\n",
      "free_kick_accuracy     183142 non-null float64\n",
      "long_passing           183142 non-null float64\n",
      "ball_control           183142 non-null float64\n",
      "acceleration           183142 non-null float64\n",
      "sprint_speed           183142 non-null float64\n",
      "agility                181265 non-null float64\n",
      "reactions              183142 non-null float64\n",
      "balance                181265 non-null float64\n",
      "shot_power             183142 non-null float64\n",
      "jumping                181265 non-null float64\n",
      "stamina                183142 non-null float64\n",
      "strength               183142 non-null float64\n",
      "long_shots             183142 non-null float64\n",
      "aggression             183142 non-null float64\n",
      "interceptions          183142 non-null float64\n",
      "positioning            183142 non-null float64\n",
      "vision                 181265 non-null float64\n",
      "penalties              183142 non-null float64\n",
      "marking                183142 non-null float64\n",
      "standing_tackle        183142 non-null float64\n",
      "sliding_tackle         181265 non-null float64\n",
      "gk_diving              183142 non-null float64\n",
      "gk_handling            183142 non-null float64\n",
      "gk_kicking             183142 non-null float64\n",
      "gk_positioning         183142 non-null float64\n",
      "gk_reflexes            183142 non-null float64\n",
      "dtypes: float64(35), int64(3), object(4)\n",
      "memory usage: 59.0+ MB\n"
     ]
    }
   ],
   "source": [
    "#check player attributes data frame\n",
    "player_attributes.info()"
   ]
  },
  {
   "cell_type": "code",
   "execution_count": 13,
   "metadata": {},
   "outputs": [
    {
     "data": {
      "text/plain": [
       "id                     183978\n",
       "player_fifa_api_id      11062\n",
       "player_api_id           11060\n",
       "date                      197\n",
       "overall_rating             61\n",
       "potential                  56\n",
       "preferred_foot              2\n",
       "attacking_work_rate         8\n",
       "defensive_work_rate        19\n",
       "crossing                   95\n",
       "finishing                  97\n",
       "heading_accuracy           96\n",
       "short_passing              95\n",
       "volleys                    93\n",
       "dribbling                  97\n",
       "curve                      92\n",
       "free_kick_accuracy         97\n",
       "long_passing               95\n",
       "ball_control               93\n",
       "acceleration               86\n",
       "sprint_speed               85\n",
       "agility                    81\n",
       "reactions                  78\n",
       "balance                    81\n",
       "shot_power                 96\n",
       "jumping                    79\n",
       "stamina                    84\n",
       "strength                   82\n",
       "long_shots                 96\n",
       "aggression                 91\n",
       "interceptions              96\n",
       "positioning                95\n",
       "vision                     97\n",
       "penalties                  94\n",
       "marking                    95\n",
       "standing_tackle            95\n",
       "sliding_tackle             94\n",
       "gk_diving                  93\n",
       "gk_handling                90\n",
       "gk_kicking                 97\n",
       "gk_positioning             94\n",
       "gk_reflexes                92\n",
       "dtype: int64"
      ]
     },
     "execution_count": 13,
     "metadata": {},
     "output_type": "execute_result"
    }
   ],
   "source": [
    "#check team attributes data frame\n",
    "player_attributes.nunique()\n"
   ]
  },
  {
   "cell_type": "markdown",
   "metadata": {},
   "source": [
    "##### as we see there are three catigorical attributes have missing values so we need to replace null with mode value  ,as we see there are three numerical attributes have missing values so we need to replace null with mean value, and no duplication , we need change something here in cleaning.\n"
   ]
  },
  {
   "cell_type": "markdown",
   "metadata": {},
   "source": [
    "#### Dealing with teams  attributes Data frame "
   ]
  },
  {
   "cell_type": "code",
   "execution_count": 14,
   "metadata": {},
   "outputs": [
    {
     "name": "stdout",
     "output_type": "stream",
     "text": [
      "<class 'pandas.core.frame.DataFrame'>\n",
      "RangeIndex: 1458 entries, 0 to 1457\n",
      "Data columns (total 25 columns):\n",
      "id                                1458 non-null int64\n",
      "team_fifa_api_id                  1458 non-null int64\n",
      "team_api_id                       1458 non-null int64\n",
      "date                              1458 non-null object\n",
      "buildUpPlaySpeed                  1458 non-null int64\n",
      "buildUpPlaySpeedClass             1458 non-null object\n",
      "buildUpPlayDribbling              489 non-null float64\n",
      "buildUpPlayDribblingClass         1458 non-null object\n",
      "buildUpPlayPassing                1458 non-null int64\n",
      "buildUpPlayPassingClass           1458 non-null object\n",
      "buildUpPlayPositioningClass       1458 non-null object\n",
      "chanceCreationPassing             1458 non-null int64\n",
      "chanceCreationPassingClass        1458 non-null object\n",
      "chanceCreationCrossing            1458 non-null int64\n",
      "chanceCreationCrossingClass       1458 non-null object\n",
      "chanceCreationShooting            1458 non-null int64\n",
      "chanceCreationShootingClass       1458 non-null object\n",
      "chanceCreationPositioningClass    1458 non-null object\n",
      "defencePressure                   1458 non-null int64\n",
      "defencePressureClass              1458 non-null object\n",
      "defenceAggression                 1458 non-null int64\n",
      "defenceAggressionClass            1458 non-null object\n",
      "defenceTeamWidth                  1458 non-null int64\n",
      "defenceTeamWidthClass             1458 non-null object\n",
      "defenceDefenderLineClass          1458 non-null object\n",
      "dtypes: float64(1), int64(11), object(13)\n",
      "memory usage: 284.8+ KB\n"
     ]
    }
   ],
   "source": [
    "#check team attributes data frame\n",
    "team_attributes.info()\n"
   ]
  },
  {
   "cell_type": "code",
   "execution_count": 15,
   "metadata": {},
   "outputs": [
    {
     "data": {
      "text/plain": [
       "id                                1458\n",
       "team_fifa_api_id                   285\n",
       "team_api_id                        288\n",
       "date                                 6\n",
       "buildUpPlaySpeed                    57\n",
       "buildUpPlaySpeedClass                3\n",
       "buildUpPlayDribbling                49\n",
       "buildUpPlayDribblingClass            3\n",
       "buildUpPlayPassing                  58\n",
       "buildUpPlayPassingClass              3\n",
       "buildUpPlayPositioningClass          2\n",
       "chanceCreationPassing               50\n",
       "chanceCreationPassingClass           3\n",
       "chanceCreationCrossing              56\n",
       "chanceCreationCrossingClass          3\n",
       "chanceCreationShooting              57\n",
       "chanceCreationShootingClass          3\n",
       "chanceCreationPositioningClass       2\n",
       "defencePressure                     48\n",
       "defencePressureClass                 3\n",
       "defenceAggression                   47\n",
       "defenceAggressionClass               3\n",
       "defenceTeamWidth                    43\n",
       "defenceTeamWidthClass                3\n",
       "defenceDefenderLineClass             2\n",
       "dtype: int64"
      ]
     },
     "execution_count": 15,
     "metadata": {},
     "output_type": "execute_result"
    }
   ],
   "source": [
    "team_attributes.nunique()\n"
   ]
  },
  {
   "cell_type": "code",
   "execution_count": 16,
   "metadata": {},
   "outputs": [
    {
     "data": {
      "text/plain": [
       "id                                1458\n",
       "team_fifa_api_id                   285\n",
       "team_api_id                        288\n",
       "date                                 6\n",
       "buildUpPlaySpeed                    57\n",
       "buildUpPlaySpeedClass                3\n",
       "buildUpPlayDribbling                49\n",
       "buildUpPlayDribblingClass            3\n",
       "buildUpPlayPassing                  58\n",
       "buildUpPlayPassingClass              3\n",
       "buildUpPlayPositioningClass          2\n",
       "chanceCreationPassing               50\n",
       "chanceCreationPassingClass           3\n",
       "chanceCreationCrossing              56\n",
       "chanceCreationCrossingClass          3\n",
       "chanceCreationShooting              57\n",
       "chanceCreationShootingClass          3\n",
       "chanceCreationPositioningClass       2\n",
       "defencePressure                     48\n",
       "defencePressureClass                 3\n",
       "defenceAggression                   47\n",
       "defenceAggressionClass               3\n",
       "defenceTeamWidth                    43\n",
       "defenceTeamWidthClass                3\n",
       "defenceDefenderLineClass             2\n",
       "dtype: int64"
      ]
     },
     "execution_count": 16,
     "metadata": {},
     "output_type": "execute_result"
    }
   ],
   "source": [
    "#check team attributes data frame\n",
    "team_attributes.nunique()\n"
   ]
  },
  {
   "cell_type": "markdown",
   "metadata": {},
   "source": [
    "##### as we see buildUpPlayDribbling attribute have more than 50% missing vlaues so we need to drop it, in cleaning , all attributes dont have duplication so it s ok with duplication, \n"
   ]
  },
  {
   "cell_type": "code",
   "execution_count": null,
   "metadata": {},
   "outputs": [],
   "source": []
  },
  {
   "cell_type": "code",
   "execution_count": null,
   "metadata": {},
   "outputs": [],
   "source": []
  },
  {
   "cell_type": "markdown",
   "metadata": {},
   "source": [
    "> **Tip**: You should _not_ perform too many operations in each cell. Create cells freely to explore your data. One option that you can take with this project is to do a lot of explorations in an initial notebook. These don't have to be organized, but make sure you use enough comments to understand the purpose of each code cell. Then, after you're done with your analysis, create a duplicate notebook where you will trim the excess and organize your steps so that you have a flowing, cohesive report.\n",
    "\n",
    "> **Tip**: Make sure that you keep your reader informed on the steps that you are taking in your investigation. Follow every code cell, or every set of related code cells, with a markdown cell to describe to the reader what was found in the preceding cell(s). Try to make it so that the reader can then understand what they will be seeing in the following cell(s).\n",
    "\n",
    "### Data Cleaning (Replace this with more specific notes!)"
   ]
  },
  {
   "cell_type": "markdown",
   "metadata": {},
   "source": [
    "#### now after going deep in data set we will clean data ,, there are data frames have problem we will clean it."
   ]
  },
  {
   "cell_type": "markdown",
   "metadata": {},
   "source": [
    "##### Team data frame we will drop buildUpPlayDribbling \n"
   ]
  },
  {
   "cell_type": "code",
   "execution_count": 17,
   "metadata": {},
   "outputs": [],
   "source": [
    "# After discussing the structure of the data and any problems that need to be\n",
    "#   cleaned, perform those cleaning steps in the second part of this section.\n",
    "team_attributes.drop(['buildUpPlayDribbling'],axis=1,inplace=True)"
   ]
  },
  {
   "cell_type": "markdown",
   "metadata": {},
   "source": [
    "#### players_attributes replace missing value with mode for catigorical and mean for numerical\n"
   ]
  },
  {
   "cell_type": "code",
   "execution_count": 18,
   "metadata": {},
   "outputs": [],
   "source": [
    "player_attributes.fillna(player_attributes.mean(), inplace=True)\n"
   ]
  },
  {
   "cell_type": "code",
   "execution_count": 19,
   "metadata": {},
   "outputs": [],
   "source": [
    "player_attributes.fillna(player_attributes.mode().iloc[0], inplace=True)\n"
   ]
  },
  {
   "cell_type": "code",
   "execution_count": 20,
   "metadata": {},
   "outputs": [
    {
     "name": "stdout",
     "output_type": "stream",
     "text": [
      "<class 'pandas.core.frame.DataFrame'>\n",
      "RangeIndex: 183978 entries, 0 to 183977\n",
      "Data columns (total 42 columns):\n",
      "id                     183978 non-null int64\n",
      "player_fifa_api_id     183978 non-null int64\n",
      "player_api_id          183978 non-null int64\n",
      "date                   183978 non-null object\n",
      "overall_rating         183978 non-null float64\n",
      "potential              183978 non-null float64\n",
      "preferred_foot         183978 non-null object\n",
      "attacking_work_rate    183978 non-null object\n",
      "defensive_work_rate    183978 non-null object\n",
      "crossing               183978 non-null float64\n",
      "finishing              183978 non-null float64\n",
      "heading_accuracy       183978 non-null float64\n",
      "short_passing          183978 non-null float64\n",
      "volleys                183978 non-null float64\n",
      "dribbling              183978 non-null float64\n",
      "curve                  183978 non-null float64\n",
      "free_kick_accuracy     183978 non-null float64\n",
      "long_passing           183978 non-null float64\n",
      "ball_control           183978 non-null float64\n",
      "acceleration           183978 non-null float64\n",
      "sprint_speed           183978 non-null float64\n",
      "agility                183978 non-null float64\n",
      "reactions              183978 non-null float64\n",
      "balance                183978 non-null float64\n",
      "shot_power             183978 non-null float64\n",
      "jumping                183978 non-null float64\n",
      "stamina                183978 non-null float64\n",
      "strength               183978 non-null float64\n",
      "long_shots             183978 non-null float64\n",
      "aggression             183978 non-null float64\n",
      "interceptions          183978 non-null float64\n",
      "positioning            183978 non-null float64\n",
      "vision                 183978 non-null float64\n",
      "penalties              183978 non-null float64\n",
      "marking                183978 non-null float64\n",
      "standing_tackle        183978 non-null float64\n",
      "sliding_tackle         183978 non-null float64\n",
      "gk_diving              183978 non-null float64\n",
      "gk_handling            183978 non-null float64\n",
      "gk_kicking             183978 non-null float64\n",
      "gk_positioning         183978 non-null float64\n",
      "gk_reflexes            183978 non-null float64\n",
      "dtypes: float64(35), int64(3), object(4)\n",
      "memory usage: 59.0+ MB\n"
     ]
    }
   ],
   "source": [
    "#check\n",
    "player_attributes.info()"
   ]
  },
  {
   "cell_type": "markdown",
   "metadata": {},
   "source": [
    "#### In matches data frame :: 'PSA', 'PSD', 'PSH' attributes have more than 50% missing vlaues so we need to drop it, in cleaning , all attributes dont have duplication so it s ok with duplication, also there are alot of attributtes we won't be helpful with our anlaysis so we can drop it , beacause this data frame have 115 attribute(which it is huage number can't be useful)\n"
   ]
  },
  {
   "cell_type": "code",
   "execution_count": 21,
   "metadata": {},
   "outputs": [],
   "source": [
    "matches_df.drop(['PSA', 'PSD', 'PSH'],axis=1,inplace=True)"
   ]
  },
  {
   "cell_type": "markdown",
   "metadata": {},
   "source": [
    "<a id='eda'></a>\n",
    "## Exploratory Data Analysis\n",
    "\n",
    "> **Tip**: Now that you've trimmed and cleaned your data, you're ready to move on to exploration. Compute statistics and create visualizations with the goal of addressing the research questions that you posed in the Introduction section. It is recommended that you be systematic with your approach. Look at one variable at a time, and then follow it up by looking at relationships between variables.\n",
    "\n",
    "\n",
    "\n",
    "### Question 1 :who highest players rating ?"
   ]
  },
  {
   "cell_type": "code",
   "execution_count": 22,
   "metadata": {},
   "outputs": [],
   "source": [
    "# Use this, and more code cells, to explore your data. Don't forget to add\n",
    "#   Markdown cells to document your observations and findings.\n"
   ]
  },
  {
   "cell_type": "code",
   "execution_count": 23,
   "metadata": {},
   "outputs": [],
   "source": [
    "# Continue to explore the data to address your additional research\n",
    "#   questions. Add more headers as needed if you have more questions to\n",
    "#   investigate.\n",
    "\n",
    "overall_rating= player_attributes.groupby(['player_api_id'])['overall_rating'].agg('mean')"
   ]
  },
  {
   "cell_type": "code",
   "execution_count": 24,
   "metadata": {},
   "outputs": [
    {
     "data": {
      "text/plain": [
       "30981"
      ]
     },
     "execution_count": 24,
     "metadata": {},
     "output_type": "execute_result"
    }
   ],
   "source": [
    "overall_rating.idxmax()"
   ]
  },
  {
   "cell_type": "code",
   "execution_count": 25,
   "metadata": {},
   "outputs": [
    {
     "name": "stdout",
     "output_type": "stream",
     "text": [
      "6169    Lionel Messi\n",
      "Name: player_name, dtype: object\n"
     ]
    }
   ],
   "source": [
    "print(players_df[\"player_name\"].loc[players_df['player_api_id']==overall_rating.idxmax()])"
   ]
  },
  {
   "cell_type": "markdown",
   "metadata": {},
   "source": [
    "##### messi has best rating "
   ]
  },
  {
   "cell_type": "markdown",
   "metadata": {},
   "source": [
    "\n",
    "### Question 2 : which league have largest number of goals?"
   ]
  },
  {
   "cell_type": "code",
   "execution_count": 26,
   "metadata": {},
   "outputs": [],
   "source": [
    "def total_goal(df):\n",
    "    return df[\"home_team_goal\"] + df[\"away_team_goal\"]\n",
    "matches_df[\"total_goals\"]=matches_df.apply(total_goal,axis=1)\n",
    "#matches_df[\"total_goals\"]\n",
    "#matches_df.groupby(['league_id','total_goals']).sum()\n",
    "sum_goal_per_league=matches_df.groupby(['league_id'])['total_goals'].agg('sum')"
   ]
  },
  {
   "cell_type": "code",
   "execution_count": 27,
   "metadata": {},
   "outputs": [
    {
     "data": {
      "text/plain": [
       "21518"
      ]
     },
     "execution_count": 27,
     "metadata": {},
     "output_type": "execute_result"
    }
   ],
   "source": [
    "sum_goal_per_league.idxmax()"
   ]
  },
  {
   "cell_type": "code",
   "execution_count": 28,
   "metadata": {},
   "outputs": [
    {
     "name": "stdout",
     "output_type": "stream",
     "text": [
      "      id  country_id             name\n",
      "9  21518       21518  Spain LIGA BBVA\n"
     ]
    }
   ],
   "source": [
    "print(leagues_df.loc[leagues_df['id']==sum_goal_per_league.idxmax()])"
   ]
  },
  {
   "cell_type": "markdown",
   "metadata": {},
   "source": [
    "##### highest goal scoring league is Spain LIGA BBVA "
   ]
  },
  {
   "cell_type": "markdown",
   "metadata": {},
   "source": [
    "### Question 3 : which team has largest win ratio ?"
   ]
  },
  {
   "cell_type": "code",
   "execution_count": 29,
   "metadata": {},
   "outputs": [
    {
     "data": {
      "text/plain": [
       "0                 draw\n",
       "1                 draw\n",
       "2        away team win\n",
       "3        home team win\n",
       "4        away team win\n",
       "5                 draw\n",
       "6                 draw\n",
       "7        away team win\n",
       "8        home team win\n",
       "9        home team win\n",
       "10       away team win\n",
       "11       away team win\n",
       "12                draw\n",
       "13                draw\n",
       "14       away team win\n",
       "15       away team win\n",
       "16       away team win\n",
       "17       away team win\n",
       "18       away team win\n",
       "19                draw\n",
       "20                draw\n",
       "21       home team win\n",
       "22                draw\n",
       "23       away team win\n",
       "24                draw\n",
       "25       home team win\n",
       "26       away team win\n",
       "27                draw\n",
       "28                draw\n",
       "29                draw\n",
       "             ...      \n",
       "25949    home team win\n",
       "25950    away team win\n",
       "25951    away team win\n",
       "25952             draw\n",
       "25953    home team win\n",
       "25954    home team win\n",
       "25955    away team win\n",
       "25956    away team win\n",
       "25957    home team win\n",
       "25958             draw\n",
       "25959    away team win\n",
       "25960    away team win\n",
       "25961    away team win\n",
       "25962    home team win\n",
       "25963    away team win\n",
       "25964    away team win\n",
       "25965    home team win\n",
       "25966    away team win\n",
       "25967    home team win\n",
       "25968    home team win\n",
       "25969    home team win\n",
       "25970    home team win\n",
       "25971             draw\n",
       "25972             draw\n",
       "25973    home team win\n",
       "25974    home team win\n",
       "25975    away team win\n",
       "25976    home team win\n",
       "25977             draw\n",
       "25978    home team win\n",
       "Name: match_outcome, Length: 25979, dtype: object"
      ]
     },
     "execution_count": 29,
     "metadata": {},
     "output_type": "execute_result"
    }
   ],
   "source": [
    "#first we make attribute represent matct outcome from goal of team\n",
    "def match_outcome(df):\n",
    "    if (df[\"home_team_goal\"] > df[\"away_team_goal\"]):\n",
    "        \n",
    "        return \"home team win\"\n",
    "    elif (df[\"home_team_goal\"] == df[\"away_team_goal\"]):\n",
    "        return \"draw\"\n",
    "    else:\n",
    "        return \"away team win\"\n",
    "matches_df['match_outcome']=matches_df.apply(match_outcome,axis=1)\n",
    "matches_df['match_outcome']\n"
   ]
  },
  {
   "cell_type": "code",
   "execution_count": 30,
   "metadata": {},
   "outputs": [
    {
     "data": {
      "text/plain": [
       "(11917, 114)"
      ]
     },
     "execution_count": 30,
     "metadata": {},
     "output_type": "execute_result"
    }
   ],
   "source": [
    "filter = matches_df[\"match_outcome\"]==\"home team win\"\n",
    "selected= matches_df.loc[filter]\n",
    "selected.shape"
   ]
  },
  {
   "cell_type": "code",
   "execution_count": 31,
   "metadata": {},
   "outputs": [],
   "source": [
    "filter = matches_df[\"match_outcome\"]==\"away team win\"\n",
    "selected_away= matches_df.loc[filter]\n"
   ]
  },
  {
   "cell_type": "code",
   "execution_count": 32,
   "metadata": {},
   "outputs": [
    {
     "name": "stdout",
     "output_type": "stream",
     "text": [
      "8634      131\n",
      "8633      129\n",
      "9925      120\n",
      "10260     116\n",
      "8456      113\n",
      "9823      109\n",
      "8640      105\n",
      "9885      105\n",
      "9931      103\n",
      "8593      103\n",
      "9906      103\n",
      "9772      102\n",
      "9773      102\n",
      "9847      102\n",
      "8455      101\n",
      "9825       97\n",
      "8686       97\n",
      "9875       95\n",
      "8639       93\n",
      "8564       92\n",
      "9748       91\n",
      "8302       91\n",
      "8636       90\n",
      "10267      90\n",
      "9789       88\n",
      "8586       88\n",
      "8650       86\n",
      "10235      86\n",
      "8611       85\n",
      "10192      85\n",
      "         ... \n",
      "8194        5\n",
      "6391        5\n",
      "7947        5\n",
      "8678        5\n",
      "177361      5\n",
      "8295        5\n",
      "9776        5\n",
      "8344        5\n",
      "8483        5\n",
      "8460        4\n",
      "4170        4\n",
      "8152        4\n",
      "8479        4\n",
      "9798        4\n",
      "9878        4\n",
      "9765        4\n",
      "6269        4\n",
      "9746        4\n",
      "6547        3\n",
      "8690        3\n",
      "6631        3\n",
      "188163      3\n",
      "6351        3\n",
      "7992        3\n",
      "4064        3\n",
      "108893      2\n",
      "8262        2\n",
      "9912        2\n",
      "8457        1\n",
      "7869        1\n",
      "Name: home_team_api_id, Length: 298, dtype: int64\n"
     ]
    }
   ],
   "source": [
    "#print(selected.groupby([\"home_team_api_id\"]).max())\n",
    "home_wins_count=selected[\"home_team_api_id\"].value_counts()\n",
    "print(home_wins_count)"
   ]
  },
  {
   "cell_type": "code",
   "execution_count": 33,
   "metadata": {},
   "outputs": [
    {
     "name": "stdout",
     "output_type": "stream",
     "text": [
      "8634      103\n",
      "8633       99\n",
      "9925       98\n",
      "9823       84\n",
      "9885       84\n",
      "9772       83\n",
      "9773       81\n",
      "8593       78\n",
      "9931       77\n",
      "10260      76\n",
      "8455       75\n",
      "8640       73\n",
      "9825       73\n",
      "9847       73\n",
      "9789       69\n",
      "9768       65\n",
      "8686       65\n",
      "8650       64\n",
      "9906       64\n",
      "8636       64\n",
      "8586       63\n",
      "8592       63\n",
      "8456       62\n",
      "8564       62\n",
      "9748       62\n",
      "8178       61\n",
      "8611       59\n",
      "10243      58\n",
      "9875       58\n",
      "10229      58\n",
      "         ... \n",
      "9996        3\n",
      "7896        3\n",
      "9765        2\n",
      "9891        2\n",
      "6269        2\n",
      "8398        2\n",
      "8344        2\n",
      "9912        2\n",
      "6351        2\n",
      "9868        2\n",
      "7869        2\n",
      "8549        2\n",
      "10278       2\n",
      "8194        2\n",
      "7992        2\n",
      "6547        2\n",
      "4064        2\n",
      "9798        2\n",
      "9878        2\n",
      "6601        1\n",
      "6631        1\n",
      "4049        1\n",
      "10213       1\n",
      "8550        1\n",
      "9867        1\n",
      "108893      1\n",
      "8388        1\n",
      "6367        1\n",
      "9858        1\n",
      "9776        1\n",
      "Name: away_team_api_id, Length: 299, dtype: int64\n"
     ]
    }
   ],
   "source": [
    "#print(selected.groupby([\"home_team_api_id\"]).max())\n",
    "away_wins_count=selected_away[\"away_team_api_id\"].value_counts()\n",
    "print(away_wins_count)"
   ]
  },
  {
   "cell_type": "code",
   "execution_count": 34,
   "metadata": {},
   "outputs": [],
   "source": [
    "total=home_wins_count + away_wins_count"
   ]
  },
  {
   "cell_type": "code",
   "execution_count": 53,
   "metadata": {},
   "outputs": [
    {
     "data": {
      "text/plain": [
       "8634      234.0\n",
       "8633      228.0\n",
       "9925      218.0\n",
       "9823      193.0\n",
       "10260     192.0\n",
       "9885      189.0\n",
       "9772      185.0\n",
       "9773      183.0\n",
       "8593      181.0\n",
       "9931      180.0\n",
       "8640      178.0\n",
       "8455      176.0\n",
       "8456      175.0\n",
       "9847      175.0\n",
       "9825      170.0\n",
       "9906      167.0\n",
       "8686      162.0\n",
       "9789      157.0\n",
       "8564      154.0\n",
       "8636      154.0\n",
       "9875      153.0\n",
       "9748      153.0\n",
       "8586      151.0\n",
       "8650      150.0\n",
       "8639      147.0\n",
       "8611      144.0\n",
       "9768      144.0\n",
       "8592      143.0\n",
       "10267     142.0\n",
       "10192     142.0\n",
       "          ...  \n",
       "10213       8.0\n",
       "8479        8.0\n",
       "6391        8.0\n",
       "8344        7.0\n",
       "6367        7.0\n",
       "4170        7.0\n",
       "4049        7.0\n",
       "8549        7.0\n",
       "8550        7.0\n",
       "8194        7.0\n",
       "6601        7.0\n",
       "9746        7.0\n",
       "9858        7.0\n",
       "8460        7.0\n",
       "8690        6.0\n",
       "9765        6.0\n",
       "9878        6.0\n",
       "9798        6.0\n",
       "9776        6.0\n",
       "6269        6.0\n",
       "6547        5.0\n",
       "6351        5.0\n",
       "8457        5.0\n",
       "7992        5.0\n",
       "4064        5.0\n",
       "9912        4.0\n",
       "6631        4.0\n",
       "7869        3.0\n",
       "108893      3.0\n",
       "8357        NaN\n",
       "Length: 299, dtype: float64"
      ]
     },
     "execution_count": 53,
     "metadata": {},
     "output_type": "execute_result"
    }
   ],
   "source": [
    "(total.idxmax())\n",
    "total.sort_values(ascending=False)\n"
   ]
  },
  {
   "cell_type": "code",
   "execution_count": 54,
   "metadata": {},
   "outputs": [
    {
     "name": "stdout",
     "output_type": "stream",
     "text": [
      "258    FC Barcelona\n",
      "Name: team_long_name, dtype: object\n"
     ]
    }
   ],
   "source": [
    "print(teams_df[\"team_long_name\"].loc[teams_df['team_api_id']==total.idxmax()])"
   ]
  },
  {
   "cell_type": "code",
   "execution_count": 73,
   "metadata": {},
   "outputs": [],
   "source": [
    "highest_five_teams = total.nlargest(5)\n",
    "highest_five_teams=highest_five_teams.to_frame(name='number_matches')\n",
    "index_teams=highest_five_teams.index\n"
   ]
  },
  {
   "cell_type": "code",
   "execution_count": 74,
   "metadata": {},
   "outputs": [],
   "source": [
    "highest_five_teams[\"id\"]=index_teams"
   ]
  },
  {
   "cell_type": "code",
   "execution_count": 75,
   "metadata": {},
   "outputs": [
    {
     "data": {
      "text/html": [
       "<div>\n",
       "<style scoped>\n",
       "    .dataframe tbody tr th:only-of-type {\n",
       "        vertical-align: middle;\n",
       "    }\n",
       "\n",
       "    .dataframe tbody tr th {\n",
       "        vertical-align: top;\n",
       "    }\n",
       "\n",
       "    .dataframe thead th {\n",
       "        text-align: right;\n",
       "    }\n",
       "</style>\n",
       "<table border=\"1\" class=\"dataframe\">\n",
       "  <thead>\n",
       "    <tr style=\"text-align: right;\">\n",
       "      <th></th>\n",
       "      <th>number_matches</th>\n",
       "      <th>id</th>\n",
       "    </tr>\n",
       "  </thead>\n",
       "  <tbody>\n",
       "    <tr>\n",
       "      <th>8634</th>\n",
       "      <td>234.0</td>\n",
       "      <td>8634</td>\n",
       "    </tr>\n",
       "    <tr>\n",
       "      <th>8633</th>\n",
       "      <td>228.0</td>\n",
       "      <td>8633</td>\n",
       "    </tr>\n",
       "    <tr>\n",
       "      <th>9925</th>\n",
       "      <td>218.0</td>\n",
       "      <td>9925</td>\n",
       "    </tr>\n",
       "    <tr>\n",
       "      <th>9823</th>\n",
       "      <td>193.0</td>\n",
       "      <td>9823</td>\n",
       "    </tr>\n",
       "    <tr>\n",
       "      <th>10260</th>\n",
       "      <td>192.0</td>\n",
       "      <td>10260</td>\n",
       "    </tr>\n",
       "  </tbody>\n",
       "</table>\n",
       "</div>"
      ],
      "text/plain": [
       "       number_matches     id\n",
       "8634            234.0   8634\n",
       "8633            228.0   8633\n",
       "9925            218.0   9925\n",
       "9823            193.0   9823\n",
       "10260           192.0  10260"
      ]
     },
     "execution_count": 75,
     "metadata": {},
     "output_type": "execute_result"
    }
   ],
   "source": [
    "highest_five_teams.head()"
   ]
  },
  {
   "cell_type": "code",
   "execution_count": 76,
   "metadata": {},
   "outputs": [],
   "source": [
    "mask = teams_df['team_api_id'].isin([8634,8633,9925,9823,10260])"
   ]
  },
  {
   "cell_type": "code",
   "execution_count": 77,
   "metadata": {},
   "outputs": [],
   "source": [
    "filtered_teams=teams_df.loc[mask]"
   ]
  },
  {
   "cell_type": "code",
   "execution_count": 83,
   "metadata": {},
   "outputs": [],
   "source": [
    "filtered_teams=filtered_teams.join(highest_five_teams.set_index('id'), on='team_api_id')"
   ]
  },
  {
   "cell_type": "code",
   "execution_count": 96,
   "metadata": {},
   "outputs": [
    {
     "data": {
      "text/html": [
       "<div>\n",
       "<style scoped>\n",
       "    .dataframe tbody tr th:only-of-type {\n",
       "        vertical-align: middle;\n",
       "    }\n",
       "\n",
       "    .dataframe tbody tr th {\n",
       "        vertical-align: top;\n",
       "    }\n",
       "\n",
       "    .dataframe thead th {\n",
       "        text-align: right;\n",
       "    }\n",
       "</style>\n",
       "<table border=\"1\" class=\"dataframe\">\n",
       "  <thead>\n",
       "    <tr style=\"text-align: right;\">\n",
       "      <th></th>\n",
       "      <th>id</th>\n",
       "      <th>team_api_id</th>\n",
       "      <th>team_fifa_api_id</th>\n",
       "      <th>team_long_name</th>\n",
       "      <th>team_short_name</th>\n",
       "      <th>number_matches</th>\n",
       "    </tr>\n",
       "  </thead>\n",
       "  <tbody>\n",
       "    <tr>\n",
       "      <th>25</th>\n",
       "      <td>3457</td>\n",
       "      <td>10260</td>\n",
       "      <td>11.0</td>\n",
       "      <td>Manchester United</td>\n",
       "      <td>MUN</td>\n",
       "      <td>192.0</td>\n",
       "    </tr>\n",
       "    <tr>\n",
       "      <th>94</th>\n",
       "      <td>15617</td>\n",
       "      <td>9823</td>\n",
       "      <td>21.0</td>\n",
       "      <td>FC Bayern Munich</td>\n",
       "      <td>BMU</td>\n",
       "      <td>193.0</td>\n",
       "    </tr>\n",
       "    <tr>\n",
       "      <th>242</th>\n",
       "      <td>39395</td>\n",
       "      <td>9925</td>\n",
       "      <td>78.0</td>\n",
       "      <td>Celtic</td>\n",
       "      <td>CEL</td>\n",
       "      <td>218.0</td>\n",
       "    </tr>\n",
       "    <tr>\n",
       "      <th>256</th>\n",
       "      <td>43040</td>\n",
       "      <td>8633</td>\n",
       "      <td>243.0</td>\n",
       "      <td>Real Madrid CF</td>\n",
       "      <td>REA</td>\n",
       "      <td>228.0</td>\n",
       "    </tr>\n",
       "    <tr>\n",
       "      <th>258</th>\n",
       "      <td>43042</td>\n",
       "      <td>8634</td>\n",
       "      <td>241.0</td>\n",
       "      <td>FC Barcelona</td>\n",
       "      <td>BAR</td>\n",
       "      <td>234.0</td>\n",
       "    </tr>\n",
       "  </tbody>\n",
       "</table>\n",
       "</div>"
      ],
      "text/plain": [
       "        id  team_api_id  team_fifa_api_id     team_long_name team_short_name  \\\n",
       "25    3457        10260              11.0  Manchester United             MUN   \n",
       "94   15617         9823              21.0   FC Bayern Munich             BMU   \n",
       "242  39395         9925              78.0             Celtic             CEL   \n",
       "256  43040         8633             243.0     Real Madrid CF             REA   \n",
       "258  43042         8634             241.0       FC Barcelona             BAR   \n",
       "\n",
       "     number_matches  \n",
       "25            192.0  \n",
       "94            193.0  \n",
       "242           218.0  \n",
       "256           228.0  \n",
       "258           234.0  "
      ]
     },
     "execution_count": 96,
     "metadata": {},
     "output_type": "execute_result"
    }
   ],
   "source": [
    "filtered_teams"
   ]
  },
  {
   "cell_type": "code",
   "execution_count": 95,
   "metadata": {},
   "outputs": [
    {
     "data": {
      "text/plain": [
       "(80, 300)"
      ]
     },
     "execution_count": 95,
     "metadata": {},
     "output_type": "execute_result"
    },
    {
     "data": {
      "image/png": "[encoded data removed]",
      "text/plain": [
       "<matplotlib.figure.Figure at 0x7f248b7d49e8>"
      ]
     },
     "metadata": {
      "needs_background": "light"
     },
     "output_type": "display_data"
    }
   ],
   "source": [
    "sns.barplot(y=\"team_long_name\", x=\"number_matches\",data=filtered_teams)\n",
    "plt.xlim(80,300)"
   ]
  },
  {
   "cell_type": "markdown",
   "metadata": {},
   "source": [
    "#### now we add new aatribute (outcome match) repressent which team win home or away or draw, then filter data frame for which team win in homa and away and get max in this two list so we will founc barcelona (8634) have best ratio (131 home win) and 103 away win , then real madrid(8633), cletic and FC bayern munich and manchester utd."
   ]
  },
  {
   "cell_type": "markdown",
   "metadata": {},
   "source": [
    "### Question 4: What are the attributes that contribute to the players' overall rating? ?  "
   ]
  },
  {
   "cell_type": "code",
   "execution_count": 120,
   "metadata": {},
   "outputs": [],
   "source": [
    "player_attributes_new=player_attributes[[\"overall_rating\",\"heading_accuracy\",\"free_kick_accuracy\",'ball_control','sprint_speed','long_shots','shot_power','marking','dribbling','strength']]"
   ]
  },
  {
   "cell_type": "code",
   "execution_count": 116,
   "metadata": {},
   "outputs": [
    {
     "data": {
      "image/png": "[encoded data removed]",
      "text/plain": [
       "<matplotlib.figure.Figure at 0x7f5d15948518>"
      ]
     },
     "metadata": {
      "needs_background": "light"
     },
     "output_type": "display_data"
    }
   ],
   "source": [
    "#relationship between rating and heading accuracy\n",
    "player_attributes.plot(x='heading_accuracy', y='overall_rating', kind='scatter');"
   ]
  },
  {
   "cell_type": "markdown",
   "metadata": {},
   "source": [
    "There is a positive correlation between heading accuracy and overall rating."
   ]
  },
  {
   "cell_type": "code",
   "execution_count": 117,
   "metadata": {},
   "outputs": [
    {
     "data": {
      "image/png": "[encoded data removed]",
      "text/plain": [
       "<matplotlib.figure.Figure at 0x7f5d176a9ef0>"
      ]
     },
     "metadata": {
      "needs_background": "light"
     },
     "output_type": "display_data"
    }
   ],
   "source": [
    "#relationship between rating and free kick accuracy\n",
    "player_attributes.plot(x='free_kick_accuracy', y='overall_rating', kind='scatter')"
   ]
  },
  {
   "cell_type": "markdown",
   "metadata": {},
   "source": [
    "Free kick accuracy have a strong impact in overall rating."
   ]
  },
  {
   "cell_type": "code",
   "execution_count": 124,
   "metadata": {},
   "outputs": [
    {
     "data": {
      "image/png": "[encoded data removed]",
      "text/plain": [
       "<matplotlib.figure.Figure at 0x7f5d17146ac8>"
      ]
     },
     "metadata": {
      "needs_background": "light"
     },
     "output_type": "display_data"
    }
   ],
   "source": [
    "#relationship between rating and ball control\n",
    "player_attributes.plot(x='ball_control', y='overall_rating', kind='scatter');"
   ]
  },
  {
   "cell_type": "markdown",
   "metadata": {},
   "source": [
    "There is a strong positive correlation between overall rating and ball control."
   ]
  },
  {
   "cell_type": "code",
   "execution_count": 125,
   "metadata": {},
   "outputs": [
    {
     "data": {
      "image/png": "[encoded data removed]",
      "text/plain": [
       "<matplotlib.figure.Figure at 0x7f5d1711b4a8>"
      ]
     },
     "metadata": {
      "needs_background": "light"
     },
     "output_type": "display_data"
    }
   ],
   "source": [
    "#relationship between rating and sprint speed\n",
    "player_attributes.plot(x='sprint_speed', y='overall_rating', kind='scatter');"
   ]
  },
  {
   "cell_type": "markdown",
   "metadata": {},
   "source": [
    "positive correlation between overall rating and sprint speed."
   ]
  },
  {
   "cell_type": "code",
   "execution_count": 126,
   "metadata": {},
   "outputs": [
    {
     "data": {
      "image/png": "[encoded data removed]",
      "text/plain": [
       "<matplotlib.figure.Figure at 0x7f5d15e99668>"
      ]
     },
     "metadata": {
      "needs_background": "light"
     },
     "output_type": "display_data"
    }
   ],
   "source": [
    "\n",
    "player_attributes.plot(x='long_shots', y='overall_rating', kind='scatter');"
   ]
  },
  {
   "cell_type": "markdown",
   "metadata": {},
   "source": [
    "Positive correlation between long shots and overall rating."
   ]
  },
  {
   "cell_type": "code",
   "execution_count": 127,
   "metadata": {},
   "outputs": [
    {
     "data": {
      "image/png": "[encoded data removed]",
      "text/plain": [
       "<matplotlib.figure.Figure at 0x7f5d1695bf28>"
      ]
     },
     "metadata": {
      "needs_background": "light"
     },
     "output_type": "display_data"
    }
   ],
   "source": [
    "player_attributes.plot(x='shot_power', y='overall_rating', kind='scatter');"
   ]
  },
  {
   "cell_type": "markdown",
   "metadata": {},
   "source": [
    "Strong correlation between shot power and overall rating."
   ]
  },
  {
   "cell_type": "code",
   "execution_count": 128,
   "metadata": {},
   "outputs": [
    {
     "data": {
      "image/png": "[encoded data removed]",
      "text/plain": [
       "<matplotlib.figure.Figure at 0x7f5d172e61d0>"
      ]
     },
     "metadata": {
      "needs_background": "light"
     },
     "output_type": "display_data"
    }
   ],
   "source": [
    "player_attributes.plot(x='marking', y='overall_rating', kind='scatter');\n"
   ]
  },
  {
   "cell_type": "markdown",
   "metadata": {},
   "source": [
    "We can't say there is a positive correlation between marking and overall rating."
   ]
  },
  {
   "cell_type": "code",
   "execution_count": 129,
   "metadata": {},
   "outputs": [
    {
     "data": {
      "image/png": "[encoded data removed]",
      "text/plain": [
       "<matplotlib.figure.Figure at 0x7f5d16f83fd0>"
      ]
     },
     "metadata": {
      "needs_background": "light"
     },
     "output_type": "display_data"
    }
   ],
   "source": [
    "player_attributes.plot(x='dribbling', y='overall_rating', kind='scatter');\n"
   ]
  },
  {
   "cell_type": "markdown",
   "metadata": {},
   "source": [
    "positive correlation between overall rating and dribbling."
   ]
  },
  {
   "cell_type": "code",
   "execution_count": 130,
   "metadata": {},
   "outputs": [
    {
     "data": {
      "image/png": "[encoded data removed]",
      "text/plain": [
       "<matplotlib.figure.Figure at 0x7f5d159974e0>"
      ]
     },
     "metadata": {
      "needs_background": "light"
     },
     "output_type": "display_data"
    }
   ],
   "source": [
    "#relationship between rating and strength\n",
    "player_attributes.plot(x='strength', y='overall_rating', kind='scatter');"
   ]
  },
  {
   "cell_type": "markdown",
   "metadata": {},
   "source": [
    "Strong positive correlation between strength and overall rating."
   ]
  },
  {
   "cell_type": "markdown",
   "metadata": {},
   "source": [
    "##### we can check dependedcies using pearson's method to get correlation matrx to check which attributte have strong relation with overall rating"
   ]
  },
  {
   "cell_type": "code",
   "execution_count": 131,
   "metadata": {},
   "outputs": [
    {
     "data": {
      "text/plain": [
       "overall_rating        1.000000\n",
       "ball_control          0.444257\n",
       "shot_power            0.427996\n",
       "long_shots            0.392382\n",
       "dribbling             0.354324\n",
       "free_kick_accuracy    0.349592\n",
       "strength              0.318661\n",
       "heading_accuracy      0.314099\n",
       "sprint_speed          0.254841\n",
       "marking               0.133377\n",
       "Name: overall_rating, dtype: float64"
      ]
     },
     "execution_count": 131,
     "metadata": {},
     "output_type": "execute_result"
    }
   ],
   "source": [
    "corr_matrix = player_attributes_new.corr() \n",
    "corr_matrix[\"overall_rating\"].sort_values(ascending=False)"
   ]
  },
  {
   "cell_type": "markdown",
   "metadata": {},
   "source": [
    "##### as we see all attributes have strong relation with overall rating but marking has lowest number and the same we see in scatter plot"
   ]
  },
  {
   "cell_type": "code",
   "execution_count": null,
   "metadata": {},
   "outputs": [],
   "source": []
  },
  {
   "cell_type": "markdown",
   "metadata": {},
   "source": [
    "<a id='conclusions'></a>\n",
    "## Conclusions\n",
    "\n",
    "> **Tip**: Finally, summarize your findings and the results that have been performed. Make sure that you are clear with regards to the limitations of your exploration. If you haven't done any statistical tests, do not imply any statistical conclusions. And make sure you avoid implying causation from correlation!\n",
    "\n",
    "> **Tip**: Once you are satisfied with your work here, check over your report to make sure that it is satisfies all the areas of the rubric (found on the project submission page at the end of the lesson). You should also probably remove all of the \"Tips\" like this one so that the presentation is as polished as possible.\n",
    "\n",
    "## Submitting your Project \n",
    "\n",
    "> Before you submit your project, you need to create a .html or .pdf version of this notebook in the workspace here. To do that, run the code cell below. If it worked correctly, you should get a return code of 0, and you should see the generated .html file in the workspace directory (click on the orange Jupyter icon in the upper left).\n",
    "\n",
    "> Alternatively, you can download this report as .html via the **File** > **Download as** submenu, and then manually upload it into the workspace directory by clicking on the orange Jupyter icon in the upper left, then using the Upload button.\n",
    "\n",
    "> Once you've done this, you can submit your project by clicking on the \"Submit Project\" button in the lower right here. This will create and submit a zip file with this .ipynb doc and the .html or .pdf version you created. Congratulations!"
   ]
  },
  {
   "cell_type": "markdown",
   "metadata": {},
   "source": [
    "### Conclusion:\n",
    "\n",
    "##### 1- i found FC Barcelona have best winning record with (131 home win) and (103 away win)\n",
    "##### 2- highest league in goal scoring Spain LIGA BBVA\n",
    "##### 3 best rated player lionel messi\n",
    "##### 4- ball control the most attribute that contribute to player's overall rating and all skills like long shots and ... have good contribution but marking have lower postive correlation"
   ]
  },
  {
   "cell_type": "markdown",
   "metadata": {},
   "source": [
    "### Limitations:\n",
    "##### 1- many columns has alot of null values and thats make me drop it beacuse we can't make analysis.\n",
    "##### 2-there ara unuseful attributes in match date frame like PSV and some values like that.\n",
    "##### 3-there ara attributes describe goals in match data frame , it cant be useful to make anaysis to describe goal type from it , it written in xml "
   ]
  },
  {
   "cell_type": "code",
   "execution_count": null,
   "metadata": {},
   "outputs": [],
   "source": [
    "from subprocess import call\n",
    "call(['python', '-m', 'nbconvert', 'Investigate_a_Dataset.ipynb'])"
   ]
  },
  {
   "cell_type": "code",
   "execution_count": null,
   "metadata": {},
   "outputs": [],
   "source": []
  }
 ],
 "metadata": {
  "kernelspec": {
   "display_name": "Python 3",
   "language": "python",
   "name": "python3"
  },
  "language_info": {
   "codemirror_mode": {
    "name": "ipython",
    "version": 3
   },
   "file_extension": ".py",
   "mimetype": "text/x-python",
   "name": "python",
   "nbconvert_exporter": "python",
   "pygments_lexer": "ipython3",
   "version": "3.6.3"
  }
 },
 "nbformat": 4,
 "nbformat_minor": 2
}
